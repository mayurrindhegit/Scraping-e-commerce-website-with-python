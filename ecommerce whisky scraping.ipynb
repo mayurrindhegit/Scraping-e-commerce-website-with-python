{
 "cells": [
  {
   "cell_type": "code",
   "execution_count": 1,
   "metadata": {
    "collapsed": true
   },
   "outputs": [
    {
     "name": "stdout",
     "output_type": "stream",
     "text": [
      "Requirement already satisfied: beautifulsoup4 in c:\\users\\pankajr\\anaconda3\\lib\\site-packages (4.8.2)\n",
      "Requirement already satisfied: soupsieve>=1.2 in c:\\users\\pankajr\\anaconda3\\lib\\site-packages (from beautifulsoup4) (1.9.5)\n",
      "Requirement already satisfied: requests in c:\\users\\pankajr\\anaconda3\\lib\\site-packages (2.22.0)\n",
      "Requirement already satisfied: chardet<3.1.0,>=3.0.2 in c:\\users\\pankajr\\anaconda3\\lib\\site-packages (from requests) (3.0.4)\n",
      "Requirement already satisfied: idna<2.9,>=2.5 in c:\\users\\pankajr\\anaconda3\\lib\\site-packages (from requests) (2.8)\n",
      "Requirement already satisfied: certifi>=2017.4.17 in c:\\users\\pankajr\\anaconda3\\lib\\site-packages (from requests) (2019.11.28)\n",
      "Requirement already satisfied: urllib3!=1.25.0,!=1.25.1,<1.26,>=1.21.1 in c:\\users\\pankajr\\anaconda3\\lib\\site-packages (from requests) (1.25.8)\n",
      "Requirement already satisfied: pandas in c:\\users\\pankajr\\anaconda3\\lib\\site-packages (1.0.1)\n",
      "Requirement already satisfied: numpy>=1.13.3 in c:\\users\\pankajr\\anaconda3\\lib\\site-packages (from pandas) (1.19.5)\n",
      "Requirement already satisfied: python-dateutil>=2.6.1 in c:\\users\\pankajr\\anaconda3\\lib\\site-packages (from pandas) (2.8.1)\n",
      "Requirement already satisfied: pytz>=2017.2 in c:\\users\\pankajr\\anaconda3\\lib\\site-packages (from pandas) (2019.3)\n",
      "Requirement already satisfied: six>=1.5 in c:\\users\\pankajr\\anaconda3\\lib\\site-packages (from python-dateutil>=2.6.1->pandas) (1.15.0)\n"
     ]
    }
   ],
   "source": [
    "!pip install beautifulsoup4 \n",
    "!pip install requests\n",
    "!pip install pandas"
   ]
  },
  {
   "cell_type": "markdown",
   "metadata": {},
   "source": [
    "we're going to get a list of all the links for every single product from all pages.\n",
    "Then we are going to go into each product individually and scrape our desired data."
   ]
  },
  {
   "cell_type": "code",
   "execution_count": 1,
   "metadata": {},
   "outputs": [],
   "source": [
    "# import required libraries\n",
    "import requests\n",
    "from bs4 import BeautifulSoup\n",
    "import pandas as pd"
   ]
  },
  {
   "cell_type": "markdown",
   "metadata": {},
   "source": [
    "Here, we are going to set the base URL of the main page because \n",
    "we'll need that when we construct our URLs for each of the individual products.\n",
    "\n",
    "Also, we will send a user-agent on every HTTP request, because if you make GET request \n",
    "using requests then by default the user-agent is Python which might get blocked."
   ]
  },
  {
   "cell_type": "code",
   "execution_count": 2,
   "metadata": {},
   "outputs": [],
   "source": [
    "baseurl = \"https://www.thewhiskyexchange.com\"\n",
    "\n",
    "headers = {'User-Agent': 'Mozilla/5.0 (Windows NT 10.0; Win64; x64) AppleWebKit/537.36 (KHTML, like Gecko) Chrome/89.0.4389.82 Safari/537.36'}\n"
   ]
  },
  {
   "cell_type": "markdown",
   "metadata": {},
   "source": [
    "We will write a script to go through each one of these (items) and \n",
    "create a URL for us. To do that we need to make an HTTP call first.\n",
    "Then we will extract the li element using BeautifulSoup."
   ]
  },
  {
   "cell_type": "code",
   "execution_count": 3,
   "metadata": {},
   "outputs": [
    {
     "name": "stdout",
     "output_type": "stream",
     "text": [
      "[<li class=\"product-grid__item\"><a class=\"product-card\" href=\"/p/37325/suntory-torys-classic\" onclick=\"_gaq.push(['_trackEvent', 'Products-GridView', 'click', '37325 : Suntory Torys Classic'])\" title=\"Suntory Torys Classic\"><div class=\"product-card__image-container\"><img alt=\"Suntory Torys Classic\" class=\"product-card__image lazy\" data-original=\"https://img.thewhiskyexchange.com/480/japan_sun20.jpg\" height=\"4\" src=\"https://img.thewhiskyexchange.com/ph.png\" width=\"3\"/></div><div class=\"product-card__content\"><p class=\"product-card__name\"> Suntory Torys Classic </p><p class=\"product-card__meta\"> 70cl / 37% </p></div><div class=\"product-card__data\"><p class=\"product-card__price\"> £30.45 </p><p class=\"product-card__unit-price\"> (£43.50 per litre) </p></div></a></li>, <li class=\"product-grid__item\"><a class=\"product-card\" href=\"/p/45577/nikka-days\" onclick=\"_gaq.push(['_trackEvent', 'Products-GridView', 'click', '45577 : Nikka Days'])\" title=\"Nikka Days\"><div class=\"product-card__image-container\"><img alt=\"Nikka Days\" class=\"product-card__image lazy\" data-original=\"https://img.thewhiskyexchange.com/480/japan_nik47.jpg\" height=\"4\" src=\"https://img.thewhiskyexchange.com/ph.png\" width=\"3\"/><div class=\"product-extras product-extras--grid\"><div class=\"product-extras-flash product-extras-flash--purple\"><p class=\"product-extras-flash__content\"> Save<br/>£7 </p></div></div></div><div class=\"product-card__content\"><p class=\"product-card__name\"> Nikka Days </p><p class=\"product-card__meta\"> 70cl / 40% </p></div><div class=\"product-card__data\"><p class=\"product-card__price\"> £31.95 </p><p class=\"product-card__unit-price\"> (£45.64 per litre) </p></div></a></li>, <li class=\"product-grid__item\"><a class=\"product-card\" href=\"/p/16917/akashi-blended-whisky\" onclick=\"_gaq.push(['_trackEvent', 'Products-GridView', 'click', '16917 : Akashi Blended Whisky'])\" title=\"Akashi Blended Whisky\"><div class=\"product-card__image-container\"><img alt=\"Akashi Blended Whisky\" class=\"product-card__image lazy\" data-original=\"https://img.thewhiskyexchange.com/480/japan_aka1.jpg\" height=\"4\" src=\"https://img.thewhiskyexchange.com/ph.png\" width=\"3\"/></div><div class=\"product-card__content\"><p class=\"product-card__name\"> Akashi Blended Whisky </p><p class=\"product-card__meta\"> 50cl / 40% </p></div><div class=\"product-card__data\"><p class=\"product-card__price\"> £32.75 </p><p class=\"product-card__unit-price\"> (£65.50 per litre) </p></div></a></li>, <li class=\"product-grid__item\"><a class=\"product-card\" href=\"/p/49001/tokinoka-white-blended-whisky\" onclick=\"_gaq.push(['_trackEvent', 'Products-GridView', 'click', '49001 : Tokinoka White Blended Whisky'])\" title=\"Tokinoka White Blended Whisky\"><div class=\"product-card__image-container\"><img alt=\"Tokinoka White Blended Whisky\" class=\"product-card__image lazy\" data-original=\"https://img.thewhiskyexchange.com/480/japan_tok2.jpg\" height=\"4\" src=\"https://img.thewhiskyexchange.com/ph.png\" width=\"3\"/></div><div class=\"product-card__content\"><p class=\"product-card__name\"> Tokinoka White Blended Whisky </p><p class=\"product-card__meta\"> 50cl / 40% </p></div><div class=\"product-card__data\"><p class=\"product-card__price\"> £32.95 </p><p class=\"product-card__unit-price\"> (£65.90 per litre) </p></div></a></li>, <li class=\"product-grid__item\"><a class=\"product-card\" href=\"/p/49821/hatozaki-blended-japanese-whisky\" onclick=\"_gaq.push(['_trackEvent', 'Products-GridView', 'click', '49821 : Hatozaki Blended Japanese Whisky'])\" title=\"Hatozaki Blended Japanese Whisky\"><div class=\"product-card__image-container\"><img alt=\"Hatozaki Blended Japanese Whisky\" class=\"product-card__image lazy\" data-original=\"https://img.thewhiskyexchange.com/480/japan_hat1.jpg\" height=\"4\" src=\"https://img.thewhiskyexchange.com/ph.png\" width=\"3\"/></div><div class=\"product-card__content\"><p class=\"product-card__name\"> Hatozaki Blended Japanese Whisky </p><p class=\"product-card__meta\"> 70cl / 40% </p></div><div class=\"product-card__data\"><p class=\"product-card__price\"> £33.95 </p><p class=\"product-card__unit-price\"> (£48.50 per litre) </p></div></a></li>, <li class=\"product-grid__item\"><a class=\"product-card\" href=\"/p/57521/suntory-toki-glass-pack\" onclick=\"_gaq.push(['_trackEvent', 'Products-GridView', 'click', '57521 : Suntory Toki / Glass Pack'])\" title=\" Suntory Toki Glass Pack\"><div class=\"product-card__image-container\"><img alt=\" Suntory TokiGlass Pack\" class=\"product-card__image lazy\" data-original=\"https://img.thewhiskyexchange.com/480/japan_sun34.jpg\" height=\"4\" src=\"https://img.thewhiskyexchange.com/ph.png\" width=\"3\"/></div><div class=\"product-card__content\"><p class=\"product-card__name\"> Suntory Toki<span class=\"product-card__name-secondary\">Glass Pack</span></p><p class=\"product-card__meta\"> 70cl / 43% </p></div><div class=\"product-card__data\"><p class=\"product-card__price\"> £34.95 </p><p class=\"product-card__unit-price\"> (£49.93 per litre) </p></div></a></li>, <li class=\"product-grid__item\"><a class=\"product-card\" href=\"/p/48272/mars-kasei-blended-whisky\" onclick=\"_gaq.push(['_trackEvent', 'Products-GridView', 'click', '48272 : Mars Kasei Blended Whisky'])\" title=\"Mars Kasei Blended Whisky\"><div class=\"product-card__image-container\"><img alt=\"Mars Kasei Blended Whisky\" class=\"product-card__image lazy\" data-original=\"https://img.thewhiskyexchange.com/480/japan_mar8.jpg\" height=\"4\" src=\"https://img.thewhiskyexchange.com/ph.png\" width=\"3\"/></div><div class=\"product-card__content\"><p class=\"product-card__name\"> Mars Kasei Blended Whisky </p><p class=\"product-card__meta\"> 70cl / 40% </p></div><div class=\"product-card__data\"><p class=\"product-card__price\"> £42.95 </p><p class=\"product-card__unit-price\"> (£61.36 per litre) </p></div></a></li>, <li class=\"product-grid__item\"><a class=\"product-card\" href=\"/p/2928/nikka-from-the-barrel\" onclick=\"_gaq.push(['_trackEvent', 'Products-GridView', 'click', '2928 : Nikka From the Barrel'])\" title=\"Nikka From the Barrel\"><div class=\"product-card__image-container\"><img alt=\"Nikka From the Barrel\" class=\"product-card__image lazy\" data-original=\"https://img.thewhiskyexchange.com/480/japan_nik10.jpg\" height=\"4\" src=\"https://img.thewhiskyexchange.com/ph.png\" width=\"3\"/></div><div class=\"product-card__content\"><p class=\"product-card__name\"> Nikka From the Barrel </p><p class=\"product-card__meta\"> 50cl / 51.4% </p></div><div class=\"product-card__data\"><p class=\"product-card__price\"> £42.95 </p><p class=\"product-card__unit-price\"> (£85.90 per litre) </p></div></a></li>, <li class=\"product-grid__item\"><a class=\"product-card\" href=\"/p/24587/togouchi-premium-blended-whisky\" onclick=\"_gaq.push(['_trackEvent', 'Products-GridView', 'click', '24587 : Togouchi Premium Blended Whisky'])\" title=\"Togouchi Premium Blended Whisky\"><div class=\"product-card__image-container\"><img alt=\"Togouchi Premium Blended Whisky\" class=\"product-card__image lazy\" data-original=\"https://img.thewhiskyexchange.com/480/japan_tog1.jpg\" height=\"4\" src=\"https://img.thewhiskyexchange.com/ph.png\" width=\"3\"/></div><div class=\"product-card__content\"><p class=\"product-card__name\"> Togouchi Premium Blended Whisky </p><p class=\"product-card__meta\"> 70cl / 40% </p></div><div class=\"product-card__data\"><p class=\"product-card__price\"> £44.95 </p><p class=\"product-card__unit-price\"> (£64.21 per litre) </p></div></a></li>, <li class=\"product-grid__item\"><a class=\"product-card\" href=\"/p/2935/nikka-pure-malt-red\" onclick=\"_gaq.push(['_trackEvent', 'Products-GridView', 'click', '2935 : Nikka Pure Malt Red'])\" title=\"Nikka Pure Malt Red\"><div class=\"product-card__image-container\"><img alt=\"Nikka Pure Malt Red\" class=\"product-card__image lazy\" data-original=\"https://img.thewhiskyexchange.com/480/japan_nik8.jpg\" height=\"4\" src=\"https://img.thewhiskyexchange.com/ph.png\" width=\"3\"/></div><div class=\"product-card__content\"><p class=\"product-card__name\"> Nikka Pure Malt Red </p><p class=\"product-card__meta\"> 50cl / 43% </p></div><div class=\"product-card__data\"><p class=\"product-card__price\"> £46.45 </p><p class=\"product-card__unit-price\"> (£92.90 per litre) </p></div></a></li>, <li class=\"product-grid__item\"><a class=\"product-card\" href=\"/p/49822/hatozaki-pure-malt-japanese-whisky\" onclick=\"_gaq.push(['_trackEvent', 'Products-GridView', 'click', '49822 : Hatozaki Pure Malt Japanese Whisky'])\" title=\"Hatozaki Pure Malt Japanese Whisky\"><div class=\"product-card__image-container\"><img alt=\"Hatozaki Pure Malt Japanese Whisky\" class=\"product-card__image lazy\" data-original=\"https://img.thewhiskyexchange.com/480/japan_hat2.jpg\" height=\"4\" src=\"https://img.thewhiskyexchange.com/ph.png\" width=\"3\"/></div><div class=\"product-card__content\"><p class=\"product-card__name\"> Hatozaki Pure Malt Japanese Whisky </p><p class=\"product-card__meta\"> 70cl / 46% </p></div><div class=\"product-card__data\"><p class=\"product-card__price\"> £47.45 </p><p class=\"product-card__unit-price\"> (£67.79 per litre) </p></div></a></li>, <li class=\"product-grid__item\"><a class=\"product-card\" href=\"/p/34970/tokinoka-black-blended-whisky\" onclick=\"_gaq.push(['_trackEvent', 'Products-GridView', 'click', '34970 : Tokinoka Black Blended Whisky'])\" title=\"Tokinoka Black Blended Whisky\"><div class=\"product-card__image-container\"><img alt=\"Tokinoka Black Blended Whisky\" class=\"product-card__image lazy\" data-original=\"https://img.thewhiskyexchange.com/480/japan_tok1.jpg\" height=\"4\" src=\"https://img.thewhiskyexchange.com/ph.png\" width=\"3\"/></div><div class=\"product-card__content\"><p class=\"product-card__name\"> Tokinoka Black Blended Whisky </p><p class=\"product-card__meta\"> 50cl / 50% </p></div><div class=\"product-card__data\"><p class=\"product-card__price\"> £47.95 </p><p class=\"product-card__unit-price\"> (£95.90 per litre) </p></div></a></li>, <li class=\"product-grid__item\"><a class=\"product-card\" href=\"/p/37317/suntory-chita-whisky\" onclick=\"_gaq.push(['_trackEvent', 'Products-GridView', 'click', '37317 : Suntory Chita Whisky'])\" title=\"Suntory Chita Whisky\"><div class=\"product-card__image-container\"><img alt=\"Suntory Chita Whisky\" class=\"product-card__image lazy\" data-original=\"https://img.thewhiskyexchange.com/480/japan_sun17.jpg\" height=\"4\" src=\"https://img.thewhiskyexchange.com/ph.png\" width=\"3\"/></div><div class=\"product-card__content\"><p class=\"product-card__name\"> Suntory Chita Whisky </p><p class=\"product-card__meta\"> 70cl / 43% </p></div><div class=\"product-card__data\"><p class=\"product-card__price\"> £49.95 </p><p class=\"product-card__unit-price\"> (£71.36 per litre) </p></div></a></li>, <li class=\"product-grid__item\"><a class=\"product-card\" href=\"/p/30377/super-nikka-rare-old\" onclick=\"_gaq.push(['_trackEvent', 'Products-GridView', 'click', '30377 : Super Nikka / Rare Old'])\" title=\" Super Nikka Rare Old\"><div class=\"product-card__image-container\"><img alt=\" Super NikkaRare Old\" class=\"product-card__image lazy\" data-original=\"https://img.thewhiskyexchange.com/480/japan_nik35.jpg\" height=\"4\" src=\"https://img.thewhiskyexchange.com/ph.png\" width=\"3\"/></div><div class=\"product-card__content\"><p class=\"product-card__name\"> Super Nikka<span class=\"product-card__name-secondary\">Rare Old</span></p><p class=\"product-card__meta\"> 70cl / 43% </p></div><div class=\"product-card__data\"><p class=\"product-card__price\"> £50.25 </p><p class=\"product-card__unit-price\"> (£71.79 per litre) </p></div></a></li>, <li class=\"product-grid__item\"><a class=\"product-card\" href=\"/p/23928/nikka-coffey-grain-whisky\" onclick=\"_gaq.push(['_trackEvent', 'Products-GridView', 'click', '23928 : Nikka Coffey Grain Whisky'])\" title=\"Nikka Coffey Grain Whisky\"><div class=\"product-card__image-container\"><img alt=\"Nikka Coffey Grain Whisky\" class=\"product-card__image lazy\" data-original=\"https://img.thewhiskyexchange.com/480/japan_nik24.jpg\" height=\"4\" src=\"https://img.thewhiskyexchange.com/ph.png\" width=\"3\"/><div class=\"product-extras product-extras--grid\"><div class=\"product-extras-banner\"><img alt=\"Available with Engraving\" class=\"product-extras-banner__image\" height=\"37\" src=\"/media/rtwe/assets/application/images/widgets/engraving-sm.png\" width=\"198\"/></div></div></div><div class=\"product-card__content\"><p class=\"product-card__name\"> Nikka Coffey Grain Whisky </p><p class=\"product-card__meta\"> 70cl / 45% </p></div><div class=\"product-card__data\"><p class=\"product-card__price\"> £54.95 </p><p class=\"product-card__unit-price\"> (£78.50 per litre) </p></div></a></li>, <li class=\"product-grid__item\"><a class=\"product-card\" href=\"/p/57245/enso-japanese-whisky\" onclick=\"_gaq.push(['_trackEvent', 'Products-GridView', 'click', '57245 : Enso Japanese Whisky'])\" title=\"Enso Japanese Whisky\"><div class=\"product-card__image-container\"><img alt=\"Enso Japanese Whisky\" class=\"product-card__image lazy\" data-original=\"https://img.thewhiskyexchange.com/480/japan_ens1.jpg\" height=\"4\" src=\"https://img.thewhiskyexchange.com/ph.png\" width=\"3\"/></div><div class=\"product-card__content\"><p class=\"product-card__name\"> Enso Japanese Whisky </p><p class=\"product-card__meta\"> 70cl / 40% </p></div><div class=\"product-card__data\"><p class=\"product-card__price\"> £55.95 </p><p class=\"product-card__unit-price\"> (£79.93 per litre) </p></div></a></li>, <li class=\"product-grid__item\"><a class=\"product-card\" href=\"/p/29679/mars-maltage-cosmo\" onclick=\"_gaq.push(['_trackEvent', 'Products-GridView', 'click', '29679 : Mars Maltage Cosmo'])\" title=\"Mars Maltage Cosmo\"><div class=\"product-card__image-container\"><img alt=\"Mars Maltage Cosmo\" class=\"product-card__image lazy\" data-original=\"https://img.thewhiskyexchange.com/480/japan_mar4.jpg\" height=\"4\" src=\"https://img.thewhiskyexchange.com/ph.png\" width=\"3\"/></div><div class=\"product-card__content\"><p class=\"product-card__name\"> Mars Maltage Cosmo </p><p class=\"product-card__meta\"> 70cl / 43% </p></div><div class=\"product-card__data\"><p class=\"product-card__price\"> £55.95 </p><p class=\"product-card__unit-price\"> (£79.93 per litre) </p></div></a></li>, <li class=\"product-grid__item\"><a class=\"product-card\" href=\"/p/24156/nikka-coffey-malt-whisky\" onclick=\"_gaq.push(['_trackEvent', 'Products-GridView', 'click', '24156 : Nikka Coffey Malt Whisky'])\" title=\"Nikka Coffey Malt Whisky\"><div class=\"product-card__image-container\"><img alt=\"Nikka Coffey Malt Whisky\" class=\"product-card__image lazy\" data-original=\"https://img.thewhiskyexchange.com/480/japan_nik25.jpg\" height=\"4\" src=\"https://img.thewhiskyexchange.com/ph.png\" width=\"3\"/></div><div class=\"product-card__content\"><p class=\"product-card__name\"> Nikka Coffey Malt Whisky </p><p class=\"product-card__meta\"> 70cl / 45% </p></div><div class=\"product-card__data\"><p class=\"product-card__price\"> £58.45 </p><p class=\"product-card__unit-price\"> (£83.50 per litre) </p></div></a></li>, <li class=\"product-grid__item\"><a class=\"product-card\" href=\"/p/33964/suntory-kakubin-yellow-label\" onclick=\"_gaq.push(['_trackEvent', 'Products-GridView', 'click', '33964 : Suntory Kakubin Yellow Label'])\" title=\"Suntory Kakubin Yellow Label\"><div class=\"product-card__image-container\"><img alt=\"Suntory Kakubin Yellow Label\" class=\"product-card__image lazy\" data-original=\"https://img.thewhiskyexchange.com/480/japan_sun13.jpg\" height=\"4\" src=\"https://img.thewhiskyexchange.com/ph.png\" width=\"3\"/></div><div class=\"product-card__content\"><p class=\"product-card__name\"> Suntory Kakubin Yellow Label </p><p class=\"product-card__meta\"> 70cl / 40% </p></div><div class=\"product-card__data\"><p class=\"product-card__price\"> £59.45 </p><p class=\"product-card__unit-price\"> (£84.93 per litre) </p></div></a></li>, <li class=\"product-grid__item\"><a class=\"product-card\" href=\"/p/56192/nikka-taketsuru-pure-malt-2020-release\" onclick=\"_gaq.push(['_trackEvent', 'Products-GridView', 'click', '56192 : Nikka Taketsuru Pure Malt / 2020 Release'])\" title=\" Nikka Taketsuru Pure Malt 2020 Release\"><div class=\"product-card__image-container\"><img alt=\" Nikka Taketsuru Pure Malt2020 Release\" class=\"product-card__image lazy\" data-original=\"https://img.thewhiskyexchange.com/480/japan_tak13.jpg\" height=\"4\" src=\"https://img.thewhiskyexchange.com/ph.png\" width=\"3\"/></div><div class=\"product-card__content\"><p class=\"product-card__name\"> Nikka Taketsuru Pure Malt<span class=\"product-card__name-secondary\">2020 Release</span></p><p class=\"product-card__meta\"> 70cl / 43% </p></div><div class=\"product-card__data\"><p class=\"product-card__price\"> £59.95 </p><p class=\"product-card__unit-price\"> (£85.64 per litre) </p></div></a></li>, <li class=\"product-grid__item\"><a class=\"product-card\" href=\"/p/23771/suntory-hakushu-distillers-reserve\" onclick=\"_gaq.push(['_trackEvent', 'Products-GridView', 'click', '23771 : Suntory Hakushu Distillers Reserve'])\" title=\"Suntory Hakushu Distiller's Reserve\"><div class=\"product-card__image-container\"><img alt=\"Suntory Hakushu Distiller's Reserve\" class=\"product-card__image lazy\" data-original=\"https://img.thewhiskyexchange.com/480/japan_hak16.jpg\" height=\"4\" src=\"https://img.thewhiskyexchange.com/ph.png\" width=\"3\"/><div class=\"product-extras product-extras--grid\"><div class=\"product-extras-banner\"><img alt=\"Available with Engraving\" class=\"product-extras-banner__image\" height=\"37\" src=\"/media/rtwe/assets/application/images/widgets/engraving-sm.png\" width=\"198\"/></div></div></div><div class=\"product-card__content\"><p class=\"product-card__name\"> Suntory Hakushu Distiller's Reserve </p><p class=\"product-card__meta\"> 70cl / 43% </p></div><div class=\"product-card__data\"><p class=\"product-card__price\"> £66.95 </p><p class=\"product-card__unit-price\"> (£95.64 per litre) </p></div></a></li>, <li class=\"product-grid__item\"><a class=\"product-card\" href=\"/p/23772/suntory-yamazaki-distillers-reserve\" onclick=\"_gaq.push(['_trackEvent', 'Products-GridView', 'click', '23772 : Suntory Yamazaki Distillers Reserve'])\" title=\"Suntory Yamazaki Distiller's Reserve\"><div class=\"product-card__image-container\"><img alt=\"Suntory Yamazaki Distiller's Reserve\" class=\"product-card__image lazy\" data-original=\"https://img.thewhiskyexchange.com/480/japan_yam29.jpg\" height=\"4\" src=\"https://img.thewhiskyexchange.com/ph.png\" width=\"3\"/></div><div class=\"product-card__content\"><p class=\"product-card__name\"> Suntory Yamazaki Distiller's Reserve </p><p class=\"product-card__meta\"> 70cl / 43% </p></div><div class=\"product-card__data\"><p class=\"product-card__price\"> £68.95 </p><p class=\"product-card__unit-price\"> (£98.50 per litre) </p></div></a></li>, <li class=\"product-grid__item\"><a class=\"product-card\" href=\"/p/48233/ichiros-malt-grain-japanese-whisky\" onclick=\"_gaq.push(['_trackEvent', 'Products-GridView', 'click', '48233 : Ichiros Malt &amp; Grain Japanese Whisky'])\" title=\"Ichiro's Malt &amp; Grain Japanese Whisky\"><div class=\"product-card__image-container\"><img alt=\"Ichiro's Malt &amp; Grain Japanese Whisky\" class=\"product-card__image lazy\" data-original=\"https://img.thewhiskyexchange.com/480/japan_ich13.jpg\" height=\"4\" src=\"https://img.thewhiskyexchange.com/ph.png\" width=\"3\"/></div><div class=\"product-card__content\"><p class=\"product-card__name\"> Ichiro's Malt &amp; Grain Japanese Whisky </p><p class=\"product-card__meta\"> 70cl / 46.5% </p></div><div class=\"product-card__data\"><p class=\"product-card__price\"> £69.95 </p><p class=\"product-card__unit-price\"> (£99.93 per litre) </p></div></a></li>, <li class=\"product-grid__item\"><a class=\"product-card\" href=\"/p/29388/suntory-hibiki-harmony\" onclick=\"_gaq.push(['_trackEvent', 'Products-GridView', 'click', '29388 : Suntory Hibiki Harmony'])\" title=\"Suntory Hibiki Harmony\"><div class=\"product-card__image-container\"><img alt=\"Suntory Hibiki Harmony\" class=\"product-card__image lazy\" data-original=\"https://img.thewhiskyexchange.com/480/japan_hib11.jpg\" height=\"4\" src=\"https://img.thewhiskyexchange.com/ph.png\" width=\"3\"/></div><div class=\"product-card__content\"><p class=\"product-card__name\"> Suntory Hibiki Harmony </p><p class=\"product-card__meta\"> 70cl / 43% </p></div><div class=\"product-card__data\"><p class=\"product-card__price\"> £71.45 </p><p class=\"product-card__unit-price\"> (£102.07 per litre) </p></div></a></li>]\n"
     ]
    }
   ],
   "source": [
    "k = requests.get('https://www.thewhiskyexchange.com/c/35/japanese-whisky').text\n",
    "soup=BeautifulSoup(k,'html.parser')\n",
    "productlist = soup.find_all(\"li\",{\"class\":\"product-grid__item\"})\n",
    "print(productlist)"
   ]
  },
  {
   "cell_type": "markdown",
   "metadata": {},
   "source": [
    "Next, get the HTML for the items on this page. \n",
    "Now, inside each of these lists there is a link to the individual product page.\n",
    "We will write a script to scrape all those links from the productlist."
   ]
  },
  {
   "cell_type": "code",
   "execution_count": 4,
   "metadata": {},
   "outputs": [],
   "source": [
    "# get the product links\n",
    "productlinks = []\n",
    "for product in productlist:\n",
    "    link = product.find(\"a\",{\"class\":\"product-card\"}).get('href')\n",
    "    productlinks.append(baseurl + link)\n"
   ]
  },
  {
   "cell_type": "markdown",
   "metadata": {},
   "source": [
    "Here first we have declared an empty list called productlinks.\n",
    "Then we have used a for loop to reach each productlist element to extract the link.\n",
    "We have used the .get() function to get the value of the href attribute. \n",
    "After extracting the link we store every link inside the list productlinks.\n",
    "Since we have to create a legit  URL, we have added baseurl to the link."
   ]
  },
  {
   "cell_type": "code",
   "execution_count": 5,
   "metadata": {},
   "outputs": [
    {
     "data": {
      "text/plain": [
       "['https://www.thewhiskyexchange.com/p/37325/suntory-torys-classic',\n",
       " 'https://www.thewhiskyexchange.com/p/45577/nikka-days',\n",
       " 'https://www.thewhiskyexchange.com/p/16917/akashi-blended-whisky',\n",
       " 'https://www.thewhiskyexchange.com/p/49001/tokinoka-white-blended-whisky',\n",
       " 'https://www.thewhiskyexchange.com/p/49821/hatozaki-blended-japanese-whisky',\n",
       " 'https://www.thewhiskyexchange.com/p/57521/suntory-toki-glass-pack',\n",
       " 'https://www.thewhiskyexchange.com/p/48272/mars-kasei-blended-whisky',\n",
       " 'https://www.thewhiskyexchange.com/p/2928/nikka-from-the-barrel',\n",
       " 'https://www.thewhiskyexchange.com/p/24587/togouchi-premium-blended-whisky',\n",
       " 'https://www.thewhiskyexchange.com/p/2935/nikka-pure-malt-red',\n",
       " 'https://www.thewhiskyexchange.com/p/49822/hatozaki-pure-malt-japanese-whisky',\n",
       " 'https://www.thewhiskyexchange.com/p/34970/tokinoka-black-blended-whisky',\n",
       " 'https://www.thewhiskyexchange.com/p/37317/suntory-chita-whisky',\n",
       " 'https://www.thewhiskyexchange.com/p/30377/super-nikka-rare-old',\n",
       " 'https://www.thewhiskyexchange.com/p/23928/nikka-coffey-grain-whisky',\n",
       " 'https://www.thewhiskyexchange.com/p/57245/enso-japanese-whisky',\n",
       " 'https://www.thewhiskyexchange.com/p/29679/mars-maltage-cosmo',\n",
       " 'https://www.thewhiskyexchange.com/p/24156/nikka-coffey-malt-whisky',\n",
       " 'https://www.thewhiskyexchange.com/p/33964/suntory-kakubin-yellow-label',\n",
       " 'https://www.thewhiskyexchange.com/p/56192/nikka-taketsuru-pure-malt-2020-release',\n",
       " 'https://www.thewhiskyexchange.com/p/23771/suntory-hakushu-distillers-reserve',\n",
       " 'https://www.thewhiskyexchange.com/p/23772/suntory-yamazaki-distillers-reserve',\n",
       " 'https://www.thewhiskyexchange.com/p/48233/ichiros-malt-grain-japanese-whisky',\n",
       " 'https://www.thewhiskyexchange.com/p/29388/suntory-hibiki-harmony']"
      ]
     },
     "execution_count": 5,
     "metadata": {},
     "output_type": "execute_result"
    }
   ],
   "source": [
    "productlinks"
   ]
  },
  {
   "cell_type": "code",
   "execution_count": 6,
   "metadata": {},
   "outputs": [
    {
     "data": {
      "text/plain": [
       "24"
      ]
     },
     "execution_count": 6,
     "metadata": {},
     "output_type": "execute_result"
    }
   ],
   "source": [
    "len(productlinks)"
   ]
  },
  {
   "cell_type": "markdown",
   "metadata": {},
   "source": [
    "As we discussed earlier, we have to cover all five pages of the website. \n",
    "To do so we will introduce a for loop before making the HTTP call. \n",
    "Since there are 5 pages we will run the loop from 1 to 6. \n",
    "Also, make sure to change the target URL."
   ]
  },
  {
   "cell_type": "code",
   "execution_count": 7,
   "metadata": {},
   "outputs": [],
   "source": [
    "# get the products links from all the pages\n",
    "productlinks = []\n",
    "for x in range(1,6):  \n",
    "    k = requests.get('https://www.thewhiskyexchange.com/c/35/japanese-whisky?pg={}&psize=24&sort=pasc'.format(x)).text  \n",
    "    soup=BeautifulSoup(k,'html.parser')  \n",
    "    productlist = soup.find_all(\"li\",{\"class\":\"product-grid__item\"})\n",
    " \n",
    "    for product in productlist:\n",
    "        link = product.find(\"a\",{\"class\":\"product-card\"}).get('href')\n",
    "        productlinks.append(baseurl + link)"
   ]
  },
  {
   "cell_type": "code",
   "execution_count": 8,
   "metadata": {},
   "outputs": [
    {
     "data": {
      "text/plain": [
       "112"
      ]
     },
     "execution_count": 8,
     "metadata": {},
     "output_type": "execute_result"
    }
   ],
   "source": [
    "len(productlinks)"
   ]
  },
  {
   "cell_type": "markdown",
   "metadata": {},
   "source": [
    "Now we can loop through each of these links to extract the product information \n",
    "from each page and then store it in another list or dictionary.\n",
    "\n",
    "Next we are going to analyze the pattern in which the information is displayed \n",
    "on the product page. We will extract the name, price, ratings, and about text."
   ]
  },
  {
   "cell_type": "markdown",
   "metadata": {},
   "source": [
    "The Name is under an h1 tag, the about text is under the div tag,\n",
    "price is under a p tag, and rating is under the span tag. Now, let's extract them."
   ]
  },
  {
   "cell_type": "code",
   "execution_count": 9,
   "metadata": {},
   "outputs": [],
   "source": [
    "# iterate over each link \n",
    "\n",
    "data = []\n",
    "\n",
    "for link in productlinks:\n",
    "    f = requests.get(link,headers=headers).text\n",
    "    soup=BeautifulSoup(f,'html.parser')\n",
    "\n",
    "    try:\n",
    "        price = soup.find(\"p\",{\"class\":\"product-action__price\"}).text.replace('\\n',\"\")\n",
    "    except:\n",
    "        price = None\n",
    "\n",
    "    try:\n",
    "        about=soup.find(\"div\",{\"class\":\"product-main__description\"}).text.replace('\\n',\"\")\n",
    "    except:\n",
    "        about=None\n",
    "\n",
    "    try:\n",
    "        rating = soup.find(\"div\",{\"class\":\"review-overview\"}).text.replace('\\n',\"\")\n",
    "    except:\n",
    "        rating=None\n",
    "\n",
    "    try:\n",
    "        name=soup.find(\"h1\",{\"class\":\"product-main__name\"}).text.replace('\\n',\"\")\n",
    "    except:\n",
    "        name=None\n",
    "\n",
    "    whisky = {\"name\":name,\"price\":price,\"rating\":rating,\"about\":about}\n",
    "\n",
    "    data.append(whisky)\n",
    "\n",
    "    "
   ]
  },
  {
   "cell_type": "code",
   "execution_count": 10,
   "metadata": {},
   "outputs": [
    {
     "data": {
      "text/html": [
       "<div>\n",
       "<style scoped>\n",
       "    .dataframe tbody tr th:only-of-type {\n",
       "        vertical-align: middle;\n",
       "    }\n",
       "\n",
       "    .dataframe tbody tr th {\n",
       "        vertical-align: top;\n",
       "    }\n",
       "\n",
       "    .dataframe thead th {\n",
       "        text-align: right;\n",
       "    }\n",
       "</style>\n",
       "<table border=\"1\" class=\"dataframe\">\n",
       "  <thead>\n",
       "    <tr style=\"text-align: right;\">\n",
       "      <th></th>\n",
       "      <th>name</th>\n",
       "      <th>price</th>\n",
       "      <th>rating</th>\n",
       "      <th>about</th>\n",
       "    </tr>\n",
       "  </thead>\n",
       "  <tbody>\n",
       "    <tr>\n",
       "      <th>0</th>\n",
       "      <td>Suntory Torys Classic</td>\n",
       "      <td>£30.45</td>\n",
       "      <td>3.5(2 Reviews)</td>\n",
       "      <td>Suntory Torys Classic is a light and easy-drin...</td>\n",
       "    </tr>\n",
       "    <tr>\n",
       "      <th>1</th>\n",
       "      <td>Nikka Days</td>\n",
       "      <td>£31.95</td>\n",
       "      <td>5(1 Review)</td>\n",
       "      <td>A vibrant addition to the Nikka range, Nikka D...</td>\n",
       "    </tr>\n",
       "    <tr>\n",
       "      <th>2</th>\n",
       "      <td>Akashi Blended Whisky</td>\n",
       "      <td>£32.75</td>\n",
       "      <td>3.5(19 Reviews)</td>\n",
       "      <td>A lesser-known whisky outside the local Japane...</td>\n",
       "    </tr>\n",
       "    <tr>\n",
       "      <th>3</th>\n",
       "      <td>Tokinoka White Blended Whisky</td>\n",
       "      <td>£32.95</td>\n",
       "      <td>None</td>\n",
       "      <td>A Japanese blended whisky from White Oak disti...</td>\n",
       "    </tr>\n",
       "    <tr>\n",
       "      <th>4</th>\n",
       "      <td>Hatozaki Blended Japanese Whisky</td>\n",
       "      <td>£33.95</td>\n",
       "      <td>3(3 Reviews)</td>\n",
       "      <td>Named after the oldest stone lighthouse in Jap...</td>\n",
       "    </tr>\n",
       "  </tbody>\n",
       "</table>\n",
       "</div>"
      ],
      "text/plain": [
       "                               name   price           rating  \\\n",
       "0             Suntory Torys Classic  £30.45   3.5(2 Reviews)   \n",
       "1                        Nikka Days  £31.95      5(1 Review)   \n",
       "2             Akashi Blended Whisky  £32.75  3.5(19 Reviews)   \n",
       "3     Tokinoka White Blended Whisky  £32.95             None   \n",
       "4  Hatozaki Blended Japanese Whisky  £33.95     3(3 Reviews)   \n",
       "\n",
       "                                               about  \n",
       "0  Suntory Torys Classic is a light and easy-drin...  \n",
       "1  A vibrant addition to the Nikka range, Nikka D...  \n",
       "2  A lesser-known whisky outside the local Japane...  \n",
       "3  A Japanese blended whisky from White Oak disti...  \n",
       "4  Named after the oldest stone lighthouse in Jap...  "
      ]
     },
     "execution_count": 10,
     "metadata": {},
     "output_type": "execute_result"
    }
   ],
   "source": [
    "df = pd.DataFrame(data)\n",
    "df.head()"
   ]
  },
  {
   "cell_type": "code",
   "execution_count": 11,
   "metadata": {},
   "outputs": [],
   "source": [
    "# saving the dataframe\n",
    "df.to_csv('e_commerce.csv')"
   ]
  },
  {
   "cell_type": "code",
   "execution_count": null,
   "metadata": {},
   "outputs": [],
   "source": []
  }
 ],
 "metadata": {
  "kernelspec": {
   "display_name": "Python 3",
   "language": "python",
   "name": "python3"
  },
  "language_info": {
   "codemirror_mode": {
    "name": "ipython",
    "version": 3
   },
   "file_extension": ".py",
   "mimetype": "text/x-python",
   "name": "python",
   "nbconvert_exporter": "python",
   "pygments_lexer": "ipython3",
   "version": "3.7.6"
  }
 },
 "nbformat": 4,
 "nbformat_minor": 4
}
